{
 "cells": [
  {
   "cell_type": "markdown",
   "id": "9034e4f3",
   "metadata": {},
   "source": [
    "# Python and Data Science\n",
    "## Machine Learning\n",
    "### Part 1: Linear Regression using Scikit-Learn"
   ]
  },
  {
   "cell_type": "code",
   "execution_count": 2,
   "id": "cddc3976",
   "metadata": {},
   "outputs": [],
   "source": [
    "# Library Imports\n",
    "import pandas as pd\n",
    "import numpy as np\n",
    "import sklearn\n",
    "import matplotlib.pyplot as pyplot\n",
    "import pickle\n",
    "from sklearn import linear_model\n",
    "from sklearn.utils import shuffle\n",
    "from matplotlib import style"
   ]
  },
  {
   "cell_type": "markdown",
   "id": "ebdfb28b",
   "metadata": {},
   "source": [
    "### Attributes and Labels\n",
    "\n",
    "In machine learning:\n",
    "\n",
    "1. Attributes (Features): Characteristics or properties of data used as input for algorithms. Also known as variables or features. Represented by a feature vector for each data point.\n",
    "\n",
    "2. Labels (Target Variable): Values we want the model to predict or learn. The dataset is labeled in supervised learning, where each data point has an associated label serving as ground truth.\n",
    "\n",
    "The goal is to use attributes to learn patterns and relationships that enable the model to predict labels for new, unseen data.\n",
    "\n",
    "List the attributes hre:\n",
    "\n",
    "What is/are the labels?"
   ]
  },
  {
   "cell_type": "markdown",
   "id": "700f1d34",
   "metadata": {},
   "source": [
    "### Linear Regression\n",
    " Using a set of data points, the LR algorithm attempts to find a 'line of best fit' through the data.\n",
    " The 'line of best fit' is a corrrelation between the data points.\n",
    " LR is best used in a situation when there is a strong correlation of data to begin with.\n",
    " \n",
    " <table>\n",
    "    <tr>\n",
    "        <td>\n",
    "            <img src=\"LR-data1.png\" width=\"50%\" />\n",
    "        </td>\n",
    "        <td>\n",
    "            <img src=\"LR-data2.png\" width=\"50%\" />\n",
    "        </td>\n",
    "    </tr>\n",
    "    <tr>\n",
    "        <td>\n",
    "            <p style=\"text-align:center\">Strongly Correlated</p>\n",
    "        </td>\n",
    "        <td>\n",
    "            <p style=\"text-align:center\">Poorly Correlated</p>\n",
    "        </td>\n",
    "    </tr>\n",
    " </table>\n",
    " \n",
    " <b>Linear Equation: y = mx + b, where m is the gradient of the line.\n",
    " For any given x and a known gradient, y can be predicted.</b>"
   ]
  },
  {
   "cell_type": "code",
   "execution_count": null,
   "id": "7ef21223",
   "metadata": {},
   "outputs": [],
   "source": []
  }
 ],
 "metadata": {
  "kernelspec": {
   "display_name": "Python 3 (ipykernel)",
   "language": "python",
   "name": "python3"
  },
  "language_info": {
   "codemirror_mode": {
    "name": "ipython",
    "version": 3
   },
   "file_extension": ".py",
   "mimetype": "text/x-python",
   "name": "python",
   "nbconvert_exporter": "python",
   "pygments_lexer": "ipython3",
   "version": "3.10.9"
  }
 },
 "nbformat": 4,
 "nbformat_minor": 5
}
