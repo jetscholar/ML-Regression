{
 "cells": [
  {
   "cell_type": "markdown",
   "metadata": {},
   "source": [
    "##### To run code, ctrl + enter (Cmd + enter on Mac)\n",
    "[Jupyter on VSCode](https://www.alphr.com/vs-code-open-jupyter-notebook/)"
   ]
  },
  {
   "cell_type": "markdown",
   "metadata": {},
   "source": [
    "## Python and Data Science\n",
    "### Part 1: Using Jupyter Notebooks"
   ]
  },
  {
   "cell_type": "code",
   "execution_count": 160,
   "metadata": {},
   "outputs": [],
   "source": [
    "import pandas as pd\n",
    "import numpy as np\n",
    "import sklearn\n",
    "import matplotlib.pyplot as pyplot\n",
    "import pickle\n",
    "from sklearn import linear_model\n",
    "from sklearn.utils import shuffle\n",
    "from matplotlib import style"
   ]
  },
  {
   "cell_type": "code",
   "execution_count": 161,
   "metadata": {},
   "outputs": [
    {
     "name": "stdout",
     "output_type": "stream",
     "text": [
      "  school sex  age address famsize Pstatus  Medu  Fedu     Mjob      Fjob  ...  \\\n",
      "0     GP   F   18       U     GT3       A     4     4  at_home   teacher  ...   \n",
      "1     GP   F   17       U     GT3       T     1     1  at_home     other  ...   \n",
      "2     GP   F   15       U     LE3       T     1     1  at_home     other  ...   \n",
      "3     GP   F   15       U     GT3       T     4     2   health  services  ...   \n",
      "4     GP   F   16       U     GT3       T     3     3    other     other  ...   \n",
      "\n",
      "  famrel freetime  goout  Dalc  Walc health absences  G1  G2  G3  \n",
      "0      4        3      4     1     1      3        6   5   6   6  \n",
      "1      5        3      3     1     1      3        4   5   5   6  \n",
      "2      4        3      2     2     3      3       10   7   8  10  \n",
      "3      3        2      2     1     1      5        2  15  14  15  \n",
      "4      4        3      2     1     2      5        4   6  10  10  \n",
      "\n",
      "[5 rows x 33 columns]\n"
     ]
    }
   ],
   "source": [
    "data = pd.read_csv(\"student-mat.csv\", sep=\";\")\n",
    "print(data.head())"
   ]
  },
  {
   "cell_type": "code",
   "execution_count": 162,
   "metadata": {},
   "outputs": [
    {
     "name": "stdout",
     "output_type": "stream",
     "text": [
      "   G1  G2  G3  studytime  failures  absences\n",
      "0   5   6   6          2         0         6\n",
      "1   5   5   6          2         0         4\n",
      "2   7   8  10          2         3        10\n",
      "3  15  14  15          3         0         2\n",
      "4   6  10  10          2         0         4\n"
     ]
    }
   ],
   "source": [
    "data = data[[\"G1\", \"G2\", \"G3\", \"studytime\", \"failures\", \"absences\"]]\n",
    "print(data.head())"
   ]
  },
  {
   "cell_type": "markdown",
   "metadata": {},
   "source": [
    "### Attributes and Labels\n",
    "\n",
    "In machine learning:\n",
    "\n",
    "1. Attributes (Features): Characteristics or properties of data used as input for algorithms. Also known as variables or features. Represented by a feature vector for each data point.\n",
    "\n",
    "2. Labels (Target Variable): Values we want the model to predict or learn. The dataset is labeled in supervised learning, where each data point has an associated label serving as ground truth.\n",
    "\n",
    "The goal is to use attributes to learn patterns and relationships that enable the model to predict labels for new, unseen data."
   ]
  },
  {
   "cell_type": "code",
   "execution_count": 163,
   "metadata": {},
   "outputs": [],
   "source": [
    "predict = \"G3\"\n",
    "\n",
    "x = np.array(data.drop(predict, axis=1))\n",
    "y = np.array(data[predict])"
   ]
  },
  {
   "cell_type": "code",
   "execution_count": 164,
   "metadata": {},
   "outputs": [],
   "source": [
    "# Split into train and test sets\n",
    "x_train, x_test, y_train, y_test = sklearn.model_selection.train_test_split(x, y, test_size=0.1)"
   ]
  },
  {
   "cell_type": "raw",
   "metadata": {},
   "source": [
    "# Loop through model training 30x, saving the model with the best accuracy\n",
    "# Commnet out when a high accuracy is achieved (Use RawNBConvert)\n",
    "best = 0\n",
    "for _ in range(30):\n",
    "    x_train, x_test, y_train, y_test = sklearn.model_selection.train_test_split(x, y, test_size=0.1)\n",
    "    \n",
    "    linear = linear_model.LinearRegression()\n",
    "    \n",
    "    # fit the data to train the model\n",
    "    linear.fit(x_train, y_train)\n",
    "\n",
    "    # Get the accuracy of the model\n",
    "    acc = linear.score(x_test, y_test)\n",
    "    print(acc)\n",
    "    \n",
    "    if acc > best:\n",
    "        best = acc\n",
    "        with open(\"studentmodel.pickle\", \"wb\") as f:\n",
    "            pickle.dump(linear, f)\n",
    "            \n",
    "print(\"the best is \", best)\n",
    "        \n",
    "    "
   ]
  },
  {
   "cell_type": "markdown",
   "metadata": {},
   "source": [
    "### Linear Regression\n",
    " Using a set of data points, the LR algorithm attempts to find a 'line of best fit' through the data.\n",
    " The 'line of best fit' is a corrrelation between the data points.\n",
    " LR is best used in a situation when there is a strong correlation of data to begin with.\n",
    " \n",
    " <table>\n",
    "    <tr>\n",
    "        <td>\n",
    "            <img src=\"LR-data1.png\" width=\"50%\" />\n",
    "        </td>\n",
    "        <td>\n",
    "            <img src=\"LR-data2.png\" width=\"50%\" />\n",
    "        </td>\n",
    "    </tr>\n",
    "    <tr>\n",
    "        <td>\n",
    "            <p style=\"text-align:center\">Strongly Correlated</p>\n",
    "        </td>\n",
    "        <td>\n",
    "            <p style=\"text-align:center\">Poorly Correlated</p>\n",
    "        </td>\n",
    "    </tr>\n",
    " </table>\n",
    " \n",
    " <b>Linear Equation: y = mx + b, where m is the gradient of the line.\n",
    " For any given x and a known gradient, y can be predicted.</b>"
   ]
  },
  {
   "cell_type": "raw",
   "metadata": {},
   "source": [
    "# Setup the model\n",
    "linear = linear_model.LinearRegression()\n",
    "\n",
    "# fit the data to train the model\n",
    "linear.fit(x_train, y_train)\n",
    "\n",
    "# Get the accuracy of the model\n",
    "acc = linear.score(x_test, y_test)\n",
    "print(acc)"
   ]
  },
  {
   "cell_type": "raw",
   "metadata": {},
   "source": [
    "# Use pickle to save the model in case it has a good accuracy\n",
    "with open(\"studentmodel.pickle\", \"wb\") as f:\n",
    "    pickle.dump(linear, f)"
   ]
  },
  {
   "cell_type": "code",
   "execution_count": 165,
   "metadata": {},
   "outputs": [],
   "source": [
    "# Read the pickle file\n",
    "pickle_in = open(\"studentmodel.pickle\", \"rb\")\n",
    "linear = pickle.load(pickle_in)"
   ]
  },
  {
   "cell_type": "code",
   "execution_count": 166,
   "metadata": {},
   "outputs": [
    {
     "name": "stdout",
     "output_type": "stream",
     "text": [
      "Coefficient: \n",
      " [ 0.15569956  0.9749113  -0.18874405 -0.27668281  0.04511024]\n",
      "Intercept: \n",
      " -1.533069049941023\n"
     ]
    }
   ],
   "source": [
    "# How to use the model\n",
    "\n",
    "# the mx + b \n",
    "print('Coefficient: \\n', linear.coef_)\n",
    "print('Intercept: \\n', linear.intercept_)"
   ]
  },
  {
   "cell_type": "markdown",
   "metadata": {},
   "source": [
    "The model is a 5D line with 5 'm' values and 1 intercept. The larger coefficient values carry more weight on the model. So in this case, the grade 'G2' has the most impact on the prediction."
   ]
  },
  {
   "cell_type": "code",
   "execution_count": 167,
   "metadata": {},
   "outputs": [
    {
     "name": "stdout",
     "output_type": "stream",
     "text": [
      "11.935737628033333 [12 12  1  0  2] 11\n",
      "2.714363362209464 [7 4 1 2 0] 0\n",
      "9.4202927901871 [ 9 10  2  0  4] 10\n",
      "13.033303987041588 [14 13  2  0  2] 13\n",
      "10.681861798964695 [12 11  2  0  0] 12\n",
      "7.4679365937285045 [8 9 1 3 0] 10\n",
      "15.67907334697702 [14 16  3  0  0] 16\n",
      "8.601081049889839 [10  9  2  0  4] 11\n",
      "11.746993575883058 [12 12  2  0  2] 11\n",
      "15.729189784222513 [17 15  1  0  4] 16\n",
      "16.30187157479205 [18 16  3  0  0] 16\n",
      "15.294525695451139 [16 15  2  0  2] 15\n",
      "11.935737628033333 [12 12  1  0  2] 14\n",
      "10.444076979093365 [10 11  4  0 10] 11\n",
      "12.870377006796687 [14 12  2  0 20] 13\n",
      "11.894390040021234 [13 12  3  0  6] 12\n",
      "9.575992347140856 [10 10  2  0  4] 11\n",
      "16.36796056518508 [16 16  1  0  0] 15\n",
      "8.601081049889839 [10  9  2  0  4] 9\n",
      "4.44180127186795 [ 6  5  1  1 14] 5\n",
      "11.337070889492617 [10 12  3  0  4] 12\n",
      "18.407393726247836 [19 18  3  0  0] 19\n",
      "7.576053315393331 [7 9 4 0 0] 0\n",
      "7.1271022561054735 [ 9  7  2  0 18] 6\n",
      "16.334916069988562 [17 16  2  0  0] 17\n",
      "5.727036013502043 [7 7 2 1 0] 0\n",
      "7.495211598066003 [8 8 2 0 8] 6\n",
      "8.085575243791137 [10  8  1  0 10] 9\n",
      "4.402712404722039 [6 5 1 0 7] 6\n",
      "9.739994996910195 [11 10  1  0  0] 10\n",
      "9.969308847900136 [12 10  3  0 10] 12\n",
      "6.247990054053384 [ 6  7  2  1 15] 8\n",
      "15.048605658830034 [15 15  2  0  0] 15\n",
      "15.216980873527572 [14 15  1  0  3] 16\n",
      "9.55125094475992 [11 10  2  0  0] 10\n",
      "10.338493859385101 [12 10  2  0 14] 11\n",
      "12.19809597421979 [12 12  2  0 12] 11\n",
      "7.207943973432803 [ 8  8  4  0 10] 8\n",
      "10.714906294161212 [11 11  1  0  0] 12\n",
      "12.067137819646968 [10 12  2  0 16] 11\n"
     ]
    }
   ],
   "source": [
    "# Using the test data set, make predictions for the G3 grade\n",
    "predictions = linear.predict(x_test)\n",
    "\n",
    "for x in range(len(predictions)):\n",
    "    print(predictions[x], x_test[x], y_test[x])"
   ]
  },
  {
   "cell_type": "code",
   "execution_count": 168,
   "metadata": {},
   "outputs": [
    {
     "data": {
      "image/png": "[encoded data removed]",
      "text/plain": [
       "<Figure size 640x480 with 1 Axes>"
      ]
     },
     "metadata": {},
     "output_type": "display_data"
    }
   ],
   "source": [
    "# Define a graph of type scatter\n",
    "style.use(\"ggplot\")\n",
    "\n",
    "p = \"G1\"\n",
    "pyplot.scatter(data[p], data[\"G3\"])\n",
    "pyplot.xlabel(p)\n",
    "pyplot.ylabel(\"Final Grade\")\n",
    "pyplot.show()"
   ]
  }
 ],
 "metadata": {
  "kernelspec": {
   "display_name": "Python 3 (ipykernel)",
   "language": "python",
   "name": "python3"
  },
  "language_info": {
   "codemirror_mode": {
    "name": "ipython",
    "version": 3
   },
   "file_extension": ".py",
   "mimetype": "text/x-python",
   "name": "python",
   "nbconvert_exporter": "python",
   "pygments_lexer": "ipython3",
   "version": "3.10.9"
  }
 },
 "nbformat": 4,
 "nbformat_minor": 2
}
